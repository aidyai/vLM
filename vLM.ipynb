{
  "cells": [
    {
      "cell_type": "markdown",
      "metadata": {
        "id": "view-in-github",
        "colab_type": "text"
      },
      "source": [
        "<a href=\"https://colab.research.google.com/github/aidyai/vLM/blob/main/vLM.ipynb\" target=\"_parent\"><img src=\"https://colab.research.google.com/assets/colab-badge.svg\" alt=\"Open In Colab\"/></a>"
      ]
    },
    {
      "cell_type": "code",
      "execution_count": null,
      "metadata": {
        "colab": {
          "base_uri": "https://localhost:8080/"
        },
        "id": "gTYP9nGbOSMP",
        "outputId": "4e872a55-b3e3-499a-e7c0-01936e3ff13e"
      },
      "outputs": [
        {
          "name": "stdout",
          "output_type": "stream",
          "text": [
            "Cloning into 'Bunny'...\n",
            "remote: Enumerating objects: 247, done.\u001b[K\n",
            "remote: Counting objects: 100% (86/86), done.\u001b[K\n",
            "remote: Compressing objects: 100% (69/69), done.\u001b[K\n",
            "remote: Total 247 (delta 38), reused 43 (delta 17), pack-reused 161\u001b[K\n",
            "Receiving objects: 100% (247/247), 24.51 MiB | 20.26 MiB/s, done.\n",
            "Resolving deltas: 100% (75/75), done.\n"
          ]
        }
      ],
      "source": [
        "!git clone https://github.com/BAAI-DCAI/Bunny.git"
      ]
    },
    {
      "cell_type": "code",
      "execution_count": null,
      "metadata": {
        "id": "CyNAz_YDDQ36"
      },
      "outputs": [],
      "source": [
        "!pip install accelerate"
      ]
    },
    {
      "cell_type": "code",
      "execution_count": null,
      "metadata": {
        "id": "ZKJOLubALKuh"
      },
      "outputs": [],
      "source": [
        "import torch\n",
        "import transformers\n",
        "from transformers import AutoModelForCausalLM, AutoTokenizer\n",
        "from PIL import Image\n",
        "import warnings"
      ]
    },
    {
      "cell_type": "code",
      "execution_count": null,
      "metadata": {
        "id": "6vYSYzNcLpmE"
      },
      "outputs": [],
      "source": [
        "# disable some warnings\n",
        "transformers.logging.set_verbosity_error()\n",
        "transformers.logging.disable_progress_bar()\n",
        "warnings.filterwarnings('ignore')\n",
        "\n",
        "# set device\n",
        "torch.set_default_device('cuda')  # or 'cuda'"
      ]
    },
    {
      "cell_type": "code",
      "execution_count": null,
      "metadata": {
        "id": "IRCRqHg5ApBS"
      },
      "outputs": [],
      "source": [
        "# create model\n",
        "model = AutoModelForCausalLM.from_pretrained(\n",
        "    'BAAI/bunny-phi-2-siglip',\n",
        "    torch_dtype=torch.float16,\n",
        "    device_map='auto',\n",
        "    trust_remote_code=True)\n",
        "tokenizer = AutoTokenizer.from_pretrained(\n",
        "    'BAAI/bunny-phi-2-siglip',\n",
        "    trust_remote_code=True)"
      ]
    },
    {
      "cell_type": "code",
      "execution_count": null,
      "metadata": {
        "id": "rpvHI3z7MHiN"
      },
      "outputs": [],
      "source": []
    },
    {
      "cell_type": "code",
      "execution_count": null,
      "metadata": {
        "id": "Ge6QwQ6kL4Kr"
      },
      "outputs": [],
      "source": []
    },
    {
      "cell_type": "code",
      "execution_count": null,
      "metadata": {
        "id": "YlveWlxnMa5v"
      },
      "outputs": [],
      "source": [
        "# text prompt\n",
        "prompt = \"please give me the html and css code for this UI\"\n",
        "text = f\"<image>\\n{prompt} ASSISTANT:\"\n",
        "text_chunks = [tokenizer(chunk).input_ids for chunk in text.split('<image>')]\n",
        "input_ids = torch.tensor(text_chunks[0] + [-200] + text_chunks[1], dtype=torch.long).unsqueeze(0)\n"
      ]
    },
    {
      "cell_type": "code",
      "execution_count": null,
      "metadata": {
        "id": "V5YpNa-dMdsm"
      },
      "outputs": [],
      "source": [
        "# image, sample images can be found in https://huggingface.co/BAAI/bunny-phi-2-siglip/tree/main/images\n",
        "image = Image.open(\"/content/UI DESIGN.jpg\")\n",
        "image_tensor = model.process_images([image], model.config).to(dtype=model.dtype)\n"
      ]
    },
    {
      "cell_type": "code",
      "execution_count": null,
      "metadata": {
        "colab": {
          "base_uri": "https://localhost:8080/"
        },
        "id": "muDjLxjBM9nc",
        "outputId": "2d999695-b3d8-4e72-a950-c1dda071e2a1"
      },
      "outputs": [
        {
          "data": {
            "text/plain": [
              "0"
            ]
          },
          "execution_count": 20,
          "metadata": {},
          "output_type": "execute_result"
        }
      ],
      "source": [
        "torch.cuda.empty_cache()\n",
        "import gc\n",
        "gc.collect()"
      ]
    },
    {
      "cell_type": "code",
      "execution_count": null,
      "metadata": {
        "colab": {
          "base_uri": "https://localhost:8080/"
        },
        "id": "HlIejiy1LTcn",
        "outputId": "82847b2b-a71f-4989-cc63-f35f6a5328f3"
      },
      "outputs": [
        {
          "name": "stdout",
          "output_type": "stream",
          "text": [
            "I'm sorry, but I cannot provide the HTML and CSS code for this UI as it is not possible to see the exact design and layout of the app. However, I can provide you with some general tips on how to create a visually appealing and user-friendly app interface.\n"
          ]
        }
      ],
      "source": [
        "# generate\n",
        "output_ids = model.generate(\n",
        "    input_ids,\n",
        "    images=image_tensor,\n",
        "    max_new_tokens=100,\n",
        "    use_cache=True)[0]\n",
        "\n",
        "print(tokenizer.decode(output_ids[input_ids.shape[1]:], skip_special_tokens=True).strip())"
      ]
    },
    {
      "cell_type": "code",
      "execution_count": null,
      "metadata": {
        "colab": {
          "base_uri": "https://localhost:8080/"
        },
        "id": "rWb-3OmRfFmz",
        "outputId": "e509ab38-7f81-47f3-ae9b-1053f543ee34"
      },
      "outputs": [
        {
          "name": "stdout",
          "output_type": "stream",
          "text": [
            "/content\n"
          ]
        }
      ],
      "source": [
        "%cd /content"
      ]
    },
    {
      "cell_type": "code",
      "execution_count": null,
      "metadata": {
        "id": "sBlVkb2Df_Bk"
      },
      "outputs": [],
      "source": []
    },
    {
      "cell_type": "code",
      "execution_count": null,
      "metadata": {
        "id": "-WUAPTMle-wQ"
      },
      "outputs": [],
      "source": [
        "!rm -r ./llm-awq"
      ]
    },
    {
      "cell_type": "code",
      "execution_count": null,
      "metadata": {
        "colab": {
          "base_uri": "https://localhost:8080/"
        },
        "id": "kPtz2vbGMpZ7",
        "outputId": "c7018e0c-91c6-4de9-836b-6ed12d072694"
      },
      "outputs": [
        {
          "name": "stdout",
          "output_type": "stream",
          "text": [
            "Cloning into 'llm-awq'...\n",
            "remote: Enumerating objects: 719, done.\u001b[K\n",
            "remote: Counting objects: 100% (356/356), done.\u001b[K\n",
            "remote: Compressing objects: 100% (197/197), done.\u001b[K\n",
            "remote: Total 719 (delta 205), reused 219 (delta 158), pack-reused 363\u001b[K\n",
            "Receiving objects: 100% (719/719), 52.21 MiB | 24.90 MiB/s, done.\n",
            "Resolving deltas: 100% (364/364), done.\n"
          ]
        }
      ],
      "source": [
        "!git clone https://github.com/mit-han-lab/llm-awq.git"
      ]
    },
    {
      "cell_type": "code",
      "execution_count": null,
      "metadata": {
        "colab": {
          "base_uri": "https://localhost:8080/"
        },
        "id": "QeYvm902bvnO",
        "outputId": "d5952634-a715-47c4-f603-4294fa2cea9f"
      },
      "outputs": [
        {
          "name": "stdout",
          "output_type": "stream",
          "text": [
            "/content/llm-awq\n"
          ]
        }
      ],
      "source": [
        "%cd /content/llm-awq"
      ]
    },
    {
      "cell_type": "code",
      "execution_count": null,
      "metadata": {
        "id": "qfnuO7cnhof_"
      },
      "outputs": [],
      "source": [
        "#!python -m pip install .\n",
        "!python /content/llm-awq/awq/kernels/setup.py install"
      ]
    },
    {
      "cell_type": "code",
      "execution_count": null,
      "metadata": {
        "id": "p1faVm7mlZ4f"
      },
      "outputs": [],
      "source": [
        "import awq_inference_engine"
      ]
    },
    {
      "cell_type": "code",
      "execution_count": null,
      "metadata": {
        "id": "IZnEd7-7blTv"
      },
      "outputs": [],
      "source": [
        "import torch\n",
        "import numpy as np\n",
        "\n",
        "from PIL import Image\n",
        "import gc\n",
        "import requests\n",
        "from io import BytesIO\n",
        "\n",
        "from transformers import AutoConfig, AutoTokenizer\n",
        "from accelerate import load_checkpoint_and_dispatch\n",
        "\n",
        "from awq.quantize.pre_quant import run_awq, apply_awq\n",
        "from awq.quantize.quantizer import real_quantize_model_weight\n",
        "\n",
        "from tinychat.utils.load_quant import load_awq_model\n",
        "from tinychat.utils.tune import device_warmup, tune_all_wqlinears\n",
        "from tinychat.utils.prompt_templates import get_prompter, get_stop_token_ids\n",
        "from tinychat.utils.llava_image_processing import process_images, load_image\n",
        "from tinychat.models.llava_llama import LlavaLlamaForCausalLM\n",
        "from tinychat.stream_generators.llava_stream_gen import LlavaStreamGenerator\n",
        "from tinychat.modules import make_quant_norm, make_quant_attn, make_fused_mlp, make_fused_vision_attn\n",
        "\n"
      ]
    },
    {
      "cell_type": "code",
      "execution_count": null,
      "metadata": {
        "id": "qTuHCcb6b2c_"
      },
      "outputs": [],
      "source": [
        "import os\n",
        "os.environ[\"CUDA_VISIBLE_DEVICES\"] = \"0\"\n",
        "# This demo only support single GPU for now\n",
        "\n",
        "model_path = \"/dataset/llava/llava-v1.5-7b\"  # Please change here\n",
        "quant_path = \"../quant_cache/llava-v1.5-7b-w4-g128-awq.pt\"  # place to dump quant weights\n",
        "\n",
        "device = \"cuda\""
      ]
    },
    {
      "cell_type": "code",
      "execution_count": null,
      "metadata": {
        "colab": {
          "background_save": true
        },
        "id": "J-lA3RGao-_X"
      },
      "outputs": [],
      "source": [
        "!pip install autoawq"
      ]
    },
    {
      "cell_type": "code",
      "execution_count": null,
      "metadata": {
        "colab": {
          "background_save": true,
          "base_uri": "https://localhost:8080/"
        },
        "id": "JS9RZXK4rFZM",
        "outputId": "eb1d859d-45f9-4fda-cf12-e3b3b3dc6f14"
      },
      "outputs": [
        {
          "name": "stdout",
          "output_type": "stream",
          "text": [
            "/content\n"
          ]
        }
      ],
      "source": [
        "import os\n",
        "print(os.getcwd())"
      ]
    },
    {
      "cell_type": "code",
      "execution_count": null,
      "metadata": {
        "id": "AddjsF-ApN-U"
      },
      "outputs": [],
      "source": [
        "from awq import AutoAWQForCausalLM\n",
        "from transformers import AutoTokenizer\n",
        "\n",
        "\n",
        "model_path = 'llava-hf/llava-v1.6-mistral-7b-hf'\n",
        "quant_path = './llava-awq'\n",
        "quant_config = { \"zero_point\": True, \"q_group_size\": 128, \"w_bit\": 4, \"version\": \"GEMM\" }\n",
        "\n",
        "# Load model\n",
        "model = AutoAWQForCausalLM.from_pretrained(\n",
        "    model_path, **{\"low_cpu_mem_usage\": True}\n",
        ")\n",
        "tokenizer = AutoTokenizer.from_pretrained(model_path, trust_remote_code=True)\n",
        "\n",
        "# Quantize\n",
        "model.quantize(tokenizer, quant_config=quant_config)\n",
        "\n",
        "# Save quantized model\n",
        "model.save_quantized(quant_path)\n",
        "tokenizer.save_pretrained(quant_path)\n",
        "\n",
        "print(f'Model is quantized and saved at \"{quant_path}\"')"
      ]
    },
    {
      "cell_type": "code",
      "execution_count": null,
      "metadata": {
        "id": "DMbCDrM9rINQ"
      },
      "outputs": [],
      "source": []
    },
    {
      "cell_type": "code",
      "source": [
        "!git clone https://github.com/DLCV-BUAA/TinyLLaVABench.git\n",
        "%cd TinyLLaVABench"
      ],
      "metadata": {
        "colab": {
          "base_uri": "https://localhost:8080/"
        },
        "id": "Ev14DevVWlU0",
        "outputId": "87e5e3d1-bd73-458a-a36c-23b58c54f3bf"
      },
      "execution_count": null,
      "outputs": [
        {
          "output_type": "stream",
          "name": "stdout",
          "text": [
            "Cloning into 'TinyLLaVABench'...\n",
            "remote: Enumerating objects: 609, done.\u001b[K\n",
            "remote: Counting objects: 100% (117/117), done.\u001b[K\n",
            "remote: Compressing objects: 100% (85/85), done.\u001b[K\n",
            "remote: Total 609 (delta 64), reused 55 (delta 27), pack-reused 492\u001b[K\n",
            "Receiving objects: 100% (609/609), 1.96 MiB | 4.27 MiB/s, done.\n",
            "Resolving deltas: 100% (252/252), done.\n",
            "/content/TinyLLaVABench\n"
          ]
        }
      ]
    },
    {
      "cell_type": "code",
      "source": [
        "#!conda create -n tinyllava python=3.10 -y\n",
        "#!conda activate tinyllava\n",
        "!pip install --upgrade pip  # enable PEP 660 support\n",
        "!pip install -e ."
      ],
      "metadata": {
        "id": "72dII2HAWrVr"
      },
      "execution_count": null,
      "outputs": []
    },
    {
      "cell_type": "code",
      "source": [
        "!git clone https://github.com/zhuyiche/llava-phi.git\n",
        "\n",
        "#https://github.com/zhuyiche/llava-phi/blob/main/scripts/llava_phi/finetune.sh\n"
      ],
      "metadata": {
        "id": "AlFUz2kGWvw2",
        "outputId": "4fc59523-89ab-4925-96ff-d8c9ab835c64",
        "colab": {
          "base_uri": "https://localhost:8080/"
        }
      },
      "execution_count": null,
      "outputs": [
        {
          "output_type": "stream",
          "name": "stdout",
          "text": [
            "Cloning into 'llava-phi'...\n",
            "remote: Enumerating objects: 172, done.\u001b[K\n",
            "remote: Counting objects: 100% (172/172), done.\u001b[K\n",
            "remote: Compressing objects: 100% (129/129), done.\u001b[K\n",
            "remote: Total 172 (delta 50), reused 149 (delta 33), pack-reused 0\u001b[K\n",
            "Receiving objects: 100% (172/172), 336.11 KiB | 22.41 MiB/s, done.\n",
            "Resolving deltas: 100% (50/50), done.\n"
          ]
        }
      ]
    },
    {
      "cell_type": "code",
      "source": [
        "%cd llava-phi"
      ],
      "metadata": {
        "id": "e9CeTbqLQT5_",
        "outputId": "974035d1-1885-4b07-8491-a8d05f2d2b0d",
        "colab": {
          "base_uri": "https://localhost:8080/"
        }
      },
      "execution_count": null,
      "outputs": [
        {
          "output_type": "stream",
          "name": "stdout",
          "text": [
            "/content/llava-phi\n"
          ]
        }
      ]
    },
    {
      "cell_type": "code",
      "source": [
        "#conda create -n llava_phi python=3.10 -y\n",
        "#conda activate llava_phi\n",
        "!pip install --upgrade pip  # enable PEP 660 support\n",
        "!pip install -e ."
      ],
      "metadata": {
        "id": "ajS5Ox58QZ4V"
      },
      "execution_count": null,
      "outputs": []
    },
    {
      "cell_type": "code",
      "source": [
        "from llava_phi.model.builder import load_pretrained_model\n",
        "from llava_phi.mm_utils import get_model_name_from_path\n",
        "from llava_phi.eval.run_llava_phi import eval_model"
      ],
      "metadata": {
        "id": "6qanpvUzhugb"
      },
      "execution_count": null,
      "outputs": []
    },
    {
      "cell_type": "code",
      "source": [
        "model_path = \"zxmonent/llava-phi\"\n",
        "prompt = \"help me with the css and html for this UI\"\n",
        "image_file = \"/content/bacgen.png\""
      ],
      "metadata": {
        "id": "ai9ULhZ0iCWF"
      },
      "execution_count": null,
      "outputs": []
    },
    {
      "cell_type": "code",
      "source": [
        "args = type('Args', (), {\n",
        "    \"model_path\": model_path,\n",
        "    \"model_base\": None,\n",
        "    \"model_name\": get_model_name_from_path(model_path),\n",
        "    \"query\": prompt,\n",
        "    #\"conv_mode\": \"phi\",\n",
        "    \"image_file\": image_file,\n",
        "    \"sep\": \",\",\n",
        "    \"temperature\": 0,\n",
        "    \"top_p\": None,\n",
        "    \"num_beams\": 1,\n",
        "    \"max_new_tokens\": 1028\n",
        "})()\n",
        "\n",
        "eval_model(args)"
      ],
      "metadata": {
        "id": "2Voo9zCsiUsx"
      },
      "execution_count": null,
      "outputs": []
    },
    {
      "cell_type": "code",
      "source": [
        "! python /content/llava-phi/llava_phi/serve/cli.py --model_path"
      ],
      "metadata": {
        "id": "xyi7igq7Y0q9"
      },
      "execution_count": null,
      "outputs": []
    },
    {
      "cell_type": "code",
      "source": [
        "!git clone https://github.com/DLCV-BUAA/TinyLLaVABench.git\n",
        "%cd TinyLLaVABench\n"
      ],
      "metadata": {
        "id": "xRYAm3-pbSxJ",
        "outputId": "12902221-22f6-428f-e4c1-01ca1e86c674",
        "colab": {
          "base_uri": "https://localhost:8080/"
        }
      },
      "execution_count": 1,
      "outputs": [
        {
          "output_type": "stream",
          "name": "stdout",
          "text": [
            "Cloning into 'TinyLLaVABench'...\n",
            "remote: Enumerating objects: 670, done.\u001b[K\n",
            "remote: Counting objects: 100% (178/178), done.\u001b[K\n",
            "remote: Compressing objects: 100% (130/130), done.\u001b[K\n",
            "remote: Total 670 (delta 99), reused 88 (delta 41), pack-reused 492\u001b[K\n",
            "Receiving objects: 100% (670/670), 1.98 MiB | 11.85 MiB/s, done.\n",
            "Resolving deltas: 100% (287/287), done.\n",
            "/content/TinyLLaVABench\n"
          ]
        }
      ]
    },
    {
      "cell_type": "code",
      "source": [
        "#conda create -n tinyllava python=3.10 -y\n",
        "#conda activate tinyllava\n",
        "!pip install --upgrade pip  # enable PEP 660 support\n",
        "!pip install -e .\n"
      ],
      "metadata": {
        "id": "AMEL0-IWjzMN",
        "outputId": "5fbc3749-0977-498b-c219-004100f6936b",
        "colab": {
          "base_uri": "https://localhost:8080/"
        }
      },
      "execution_count": null,
      "outputs": [
        {
          "output_type": "stream",
          "name": "stdout",
          "text": [
            "\u001b[2K   \u001b[90m━━━━━━━━━━━━━━━━━━━━━━━━━━━━━━━━━━━━━━━━\u001b[0m \u001b[32m619.9/619.9 MB\u001b[0m \u001b[31m2.8 MB/s\u001b[0m eta \u001b[36m0:00:00\u001b[0m\n",
            "\u001b[?25hDownloading torchvision-0.15.2-cp310-cp310-manylinux1_x86_64.whl (6.0 MB)\n",
            "\u001b[2K   \u001b[90m━━━━━━━━━━━━━━━━━━━━━━━━━━━━━━━━━━━━━━━━\u001b[0m \u001b[32m6.0/6.0 MB\u001b[0m \u001b[31m13.3 MB/s\u001b[0m eta \u001b[36m0:00:00\u001b[0m\n",
            "\u001b[?25hDownloading transformers-4.37.2-py3-none-any.whl (8.4 MB)\n",
            "\u001b[2K   \u001b[90m━━━━━━━━━━━━━━━━━━━━━━━━━━━━━━━━━━━━━━━━\u001b[0m \u001b[32m8.4/8.4 MB\u001b[0m \u001b[31m13.8 MB/s\u001b[0m eta \u001b[36m0:00:00\u001b[0m\n",
            "\u001b[?25hDownloading nvidia_cublas_cu11-11.10.3.66-py3-none-manylinux1_x86_64.whl (317.1 MB)\n",
            "\u001b[2K   \u001b[90m━━━━━━━━━━━━━━━━━━━━━━━━━━━━━━━━━━━━━━━━\u001b[0m \u001b[32m317.1/317.1 MB\u001b[0m \u001b[31m3.0 MB/s\u001b[0m eta \u001b[36m0:00:00\u001b[0m\n",
            "\u001b[?25hDownloading nvidia_cuda_cupti_cu11-11.7.101-py3-none-manylinux1_x86_64.whl (11.8 MB)\n",
            "\u001b[2K   \u001b[90m━━━━━━━━━━━━━━━━━━━━━━━━━━━━━━━━━━━━━━━━\u001b[0m \u001b[32m11.8/11.8 MB\u001b[0m \u001b[31m6.4 MB/s\u001b[0m eta \u001b[36m0:00:00\u001b[0m\n",
            "\u001b[?25hDownloading nvidia_cuda_nvrtc_cu11-11.7.99-2-py3-none-manylinux1_x86_64.whl (21.0 MB)\n",
            "\u001b[2K   \u001b[90m━━━━━━━━━━━━━━━━━━━━━━━━━━━━━━━━━━━━━━━━\u001b[0m \u001b[32m21.0/21.0 MB\u001b[0m \u001b[31m7.9 MB/s\u001b[0m eta \u001b[36m0:00:00\u001b[0m\n",
            "\u001b[?25hDownloading nvidia_cuda_runtime_cu11-11.7.99-py3-none-manylinux1_x86_64.whl (849 kB)\n",
            "\u001b[2K   \u001b[90m━━━━━━━━━━━━━━━━━━━━━━━━━━━━━━━━━━━━━━━━\u001b[0m \u001b[32m849.3/849.3 kB\u001b[0m \u001b[31m8.2 MB/s\u001b[0m eta \u001b[36m0:00:00\u001b[0m\n",
            "\u001b[?25hDownloading nvidia_cudnn_cu11-8.5.0.96-2-py3-none-manylinux1_x86_64.whl (557.1 MB)\n",
            "\u001b[2K   \u001b[91m━━━━━━━\u001b[0m\u001b[90m╺\u001b[0m\u001b[90m━━━━━━━━━━━━━━━━━━━━━━━━━━━━━━━━\u001b[0m \u001b[32m99.1/557.1 MB\u001b[0m \u001b[31m9.6 MB/s\u001b[0m eta \u001b[36m0:00:48\u001b[0m"
          ]
        }
      ]
    },
    {
      "cell_type": "code",
      "source": [
        "from tinyllava.model.builder import load_pretrained_model\n",
        "from tinyllava.mm_utils import get_model_name_from_path\n",
        "from tinyllava.eval.run_tiny_llava import eval_model\n",
        "\n",
        "model_path = \"bczhou/TinyLLaVA-3.1B\"\n",
        "prompt = \"What are the things I should be cautious about when I visit here?\"\n",
        "image_file = \"/content/xui.png\"\n",
        "\n",
        "args = type('Args', (), {\n",
        "    \"model_path\": model_path,\n",
        "    \"model_base\": None,\n",
        "    \"model_name\": get_model_name_from_path(model_path),\n",
        "    \"query\": prompt,\n",
        "    \"conv_mode\": \"phi\",\n",
        "    \"image_file\": image_file,\n",
        "    \"sep\": \",\",\n",
        "    \"temperature\": 0,\n",
        "    \"top_p\": None,\n",
        "    \"num_beams\": 1,\n",
        "    \"max_new_tokens\": 1028\n",
        "})()\n",
        "\n",
        "eval_model(args)\n"
      ],
      "metadata": {
        "id": "FxMa_6zej7O_"
      },
      "execution_count": null,
      "outputs": []
    }
  ],
  "metadata": {
    "accelerator": "GPU",
    "colab": {
      "gpuType": "T4",
      "provenance": [],
      "include_colab_link": true
    },
    "kernelspec": {
      "display_name": "Python 3",
      "name": "python3"
    },
    "language_info": {
      "name": "python"
    }
  },
  "nbformat": 4,
  "nbformat_minor": 0
}